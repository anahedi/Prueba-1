{
 "cells": [
  {
   "cell_type": "markdown",
   "metadata": {},
   "source": [
    "Importar liberias"
   ]
  },
  {
   "cell_type": "code",
   "execution_count": 7,
   "metadata": {},
   "outputs": [],
   "source": [
    "import pandas as pd\n",
    "from sklearn.linear_model import LinearRegression\n",
    "from sklearn.model_selection import train_test_split\n",
    "from sklearn.metrics import mean_squared_error\n",
    "import matplotlib.pyplot as plt\n",
    "from sklearn.metrics import mean_squared_error, r2_score  # Importamos también r2_score\n"
   ]
  },
  {
   "cell_type": "markdown",
   "metadata": {},
   "source": [
    "Data frame"
   ]
  },
  {
   "cell_type": "code",
   "execution_count": 2,
   "metadata": {},
   "outputs": [],
   "source": [
    "# Crear el DataFrame con los datos\n",
    "data = {\n",
    "    'Año': [1992, 1993, 1994, 1995, 1996, 1997, 1998, 1999, 2000, 2001, \n",
    "            2002, 2003, 2004, 2005, 2006, 2007, 2008, 2009, 2010, 2011, \n",
    "            2012, 2013, 2014, 2015, 2016, 2017, 2018, 2019, 2020, 2021, 2022],\n",
    "    'Federación de Rusia': [4.427032321, 4.181324647, 4.523700655, 3.784429967, 3.756558821, \n",
    "                            4.039809297, 2.732649089, 3.073287922, 3.307029837, 3.546319229,\n",
    "                            3.756277391, 3.67083809, 3.300353647, 3.331237234, 3.246357234, \n",
    "                            3.118542075, 3.14948602, 3.924063403, 3.58508572, 3.433043838, \n",
    "                            3.689240435, 3.854042583, 4.112992978, 4.871514747, 5.425147705, \n",
    "                            4.248996052, 3.71982244, 3.860337504, 4.171478901, 3.720451365, 4.056316332],\n",
    "    'Ucrania': [0.318087308, 0.352352877, 1.798340267, 2.035957432, 2.190786309, \n",
    "                2.79497911, 2.105981713, 1.900756188, 2.151049237, 1.886871078,\n",
    "                1.984684246, 2.124209046, 1.9670586, 2.405748995, 2.387745638, \n",
    "                2.472527403, 2.302741144, 1.908981904, 1.902361022, 1.533641241, \n",
    "                1.613319917, 1.579291679, 2.245020521, 3.251180763, 3.154776603, \n",
    "                2.884401519, 3.192353265, 3.520152416, 3.811849481, 3.228346937, 33.546573]\n",
    "}\n",
    "\n",
    "df = pd.DataFrame(data)\n"
   ]
  },
  {
   "cell_type": "markdown",
   "metadata": {},
   "source": [
    "Modelando la ED para Rusia"
   ]
  },
  {
   "cell_type": "code",
   "execution_count": 18,
   "metadata": {},
   "outputs": [],
   "source": [
    "X = df[['Año','Ucrania']]\n",
    "y = df['Federación de Rusia']\n"
   ]
  },
  {
   "cell_type": "markdown",
   "metadata": {},
   "source": [
    "Ahora para Ucrania"
   ]
  },
  {
   "cell_type": "code",
   "execution_count": null,
   "metadata": {},
   "outputs": [],
   "source": [
    "X = df[['Año','Federación de Rusia']]\n",
    "y = df['Ucrania']\n",
    "\n"
   ]
  }
 ],
 "metadata": {
  "kernelspec": {
   "display_name": ".venv",
   "language": "python",
   "name": "python3"
  },
  "language_info": {
   "codemirror_mode": {
    "name": "ipython",
    "version": 3
   },
   "file_extension": ".py",
   "mimetype": "text/x-python",
   "name": "python",
   "nbconvert_exporter": "python",
   "pygments_lexer": "ipython3",
   "version": "3.11.9"
  }
 },
 "nbformat": 4,
 "nbformat_minor": 2
}
