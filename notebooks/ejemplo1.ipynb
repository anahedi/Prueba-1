{
 "cells": [
  {
   "cell_type": "code",
   "execution_count": 3,
   "metadata": {},
   "outputs": [
    {
     "name": "stdout",
     "output_type": "stream",
     "text": [
      "El área del círculo con radio 12.0 es: 452.39\n"
     ]
    }
   ],
   "source": [
    "import math\n",
    "def calcular_area_circulo(radio):\n",
    "    \"\"\"Calcula el área de un círculo dado su radio.\"\"\"\n",
    "    area = math.pi * (radio ** 2)\n",
    "    return area\n",
    "radio_input = float(input(\"Introduce el radio del círculo: \"))\n",
    "area_circulo = calcular_area_circulo(radio_input)\n",
    "print(f\"El área del círculo con radio {radio_input} es: {area_circulo:.2f}\")\n"
   ]
  }
 ],
 "metadata": {
  "kernelspec": {
   "display_name": ".venv",
   "language": "python",
   "name": "python3"
  },
  "language_info": {
   "codemirror_mode": {
    "name": "ipython",
    "version": 3
   },
   "file_extension": ".py",
   "mimetype": "text/x-python",
   "name": "python",
   "nbconvert_exporter": "python",
   "pygments_lexer": "ipython3",
   "version": "3.11.9"
  }
 },
 "nbformat": 4,
 "nbformat_minor": 2
}
